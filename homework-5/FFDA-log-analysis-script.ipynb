{
 "cells": [
  {
   "cell_type": "code",
   "execution_count": 92,
   "metadata": {},
   "outputs": [],
   "source": [
    "ist_count={}\n",
    "perc = ''\n",
    "for i in range(1,404):\n",
    "    doc=open(perc+'/tupling_BGLErrorLog_200/tuple_'+str(i))\n",
    "    ist_count[i]=len(doc.readlines())"
   ]
  },
  {
   "cell_type": "code",
   "execution_count": 1,
   "metadata": {},
   "outputs": [],
   "source": [
    "import matplotlib.pylab as plt\n",
    "import pandas as pd"
   ]
  },
  {
   "cell_type": "code",
   "execution_count": 87,
   "metadata": {},
   "outputs": [
    {
     "data": {
      "image/png": "[encoded data removed]",
      "text/plain": [
       "<Figure size 432x288 with 1 Axes>"
      ]
     },
     "metadata": {
      "needs_background": "light"
     },
     "output_type": "display_data"
    },
    {
     "name": "stdout",
     "output_type": "stream",
     "text": [
      "massimo num istanze: tuple_341 - totale istanze: 12152\n",
      "massimo num istanze: tuple_183 - totale istanze: 4096\n",
      "massimo num istanze: tuple_281 - totale istanze: 3071\n",
      "massimo num istanze: tuple_27 - totale istanze: 2048\n",
      "massimo num istanze: tuple_43 - totale istanze: 2048\n",
      "massimo num istanze: tuple_79 - totale istanze: 2048\n"
     ]
    }
   ],
   "source": [
    "# A VALLE DELL'ESECUZIONE VENGONO ELIMINATE DELLE TUPLE, PER PROSEGUIRE E' NECESSARIO RILEGGERE IL FILE DI LOG\n",
    "\n",
    "tpl_num = ist_count.items()\n",
    "tpl_num = sorted(tpl_num)\n",
    "x, y = zip(*tpl_num)\n",
    "\n",
    "plt.plot(x,y, marker='o')\n",
    "plt.xlabel(\"tupla\")\n",
    "plt.ylabel(\"num_istanze\")\n",
    "plt.show()\n",
    "\n",
    "\n",
    "for i in range(0,6):\n",
    "    max_key = max(ist_count, key = ist_count.get)\n",
    "    print(\"massimo num istanze: tuple_\" + str(max_key)+ \" - totale istanze: \"+str(ist_count[max_key]))\n",
    "    ist_count.pop(max_key)"
   ]
  },
  {
   "cell_type": "code",
   "execution_count": 93,
   "metadata": {},
   "outputs": [
    {
     "name": "stdout",
     "output_type": "stream",
     "text": [
      "Tupla 340: 624\n",
      "Tupla 341: 12152\n",
      "Tupla 342: 624\n",
      "Tupla 343: 8\n",
      "Tupla 344: 248\n",
      "125624\n"
     ]
    }
   ],
   "source": [
    "for i in range(340,345):\n",
    "    print(\"Tupla \" + str(i)+\": \"+str(ist_count[i]))\n",
    "    \n",
    "tot_entry = 0\n",
    "for j in ist_count:\n",
    "    tot_entry =tot_entry + ist_count[j]\n",
    "print(tot_entry)"
   ]
  },
  {
   "cell_type": "code",
   "execution_count": 94,
   "metadata": {},
   "outputs": [
    {
     "name": "stdout",
     "output_type": "stream",
     "text": [
      "somma: 13656\n",
      "le istanze da 340 a 345 coprono il 10.87053429281029% di tutte le istanze\n"
     ]
    }
   ],
   "source": [
    "# Calcolo percentuale istanze nelle tuple tra 298 e 331\n",
    "somma = 0\n",
    "for i in range(340,345):\n",
    "    somma = somma + ist_count[i]\n",
    "\n",
    "perc = somma/tot_entry*100\n",
    "print(\"somma: \"+str(somma))\n",
    "print(\"le istanze da 340 a 345 coprono il \"+str(perc)+ \"% di tutte le istanze\")"
   ]
  },
  {
   "cell_type": "code",
   "execution_count": 112,
   "metadata": {},
   "outputs": [],
   "source": [
    "import pandas as pd\n",
    "\n",
    "df_ist = pd.DataFrame(list(ist_count.items()),columns=['Tupla', 'Num_Istanze'])"
   ]
  },
  {
   "cell_type": "code",
   "execution_count": 118,
   "metadata": {},
   "outputs": [
    {
     "data": {
      "text/html": [
       "<div>\n",
       "<style scoped>\n",
       "    .dataframe tbody tr th:only-of-type {\n",
       "        vertical-align: middle;\n",
       "    }\n",
       "\n",
       "    .dataframe tbody tr th {\n",
       "        vertical-align: top;\n",
       "    }\n",
       "\n",
       "    .dataframe thead th {\n",
       "        text-align: right;\n",
       "    }\n",
       "</style>\n",
       "<table border=\"1\" class=\"dataframe\">\n",
       "  <thead>\n",
       "    <tr style=\"text-align: right;\">\n",
       "      <th></th>\n",
       "      <th>Tupla</th>\n",
       "      <th>Num_Istanze</th>\n",
       "    </tr>\n",
       "  </thead>\n",
       "  <tbody>\n",
       "    <tr>\n",
       "      <th>0</th>\n",
       "      <td>1</td>\n",
       "      <td>6</td>\n",
       "    </tr>\n",
       "    <tr>\n",
       "      <th>1</th>\n",
       "      <td>2</td>\n",
       "      <td>3</td>\n",
       "    </tr>\n",
       "    <tr>\n",
       "      <th>2</th>\n",
       "      <td>3</td>\n",
       "      <td>61</td>\n",
       "    </tr>\n",
       "    <tr>\n",
       "      <th>3</th>\n",
       "      <td>4</td>\n",
       "      <td>14</td>\n",
       "    </tr>\n",
       "    <tr>\n",
       "      <th>4</th>\n",
       "      <td>5</td>\n",
       "      <td>2</td>\n",
       "    </tr>\n",
       "    <tr>\n",
       "      <th>...</th>\n",
       "      <td>...</td>\n",
       "      <td>...</td>\n",
       "    </tr>\n",
       "    <tr>\n",
       "      <th>503</th>\n",
       "      <td>504</td>\n",
       "      <td>2</td>\n",
       "    </tr>\n",
       "    <tr>\n",
       "      <th>504</th>\n",
       "      <td>505</td>\n",
       "      <td>2</td>\n",
       "    </tr>\n",
       "    <tr>\n",
       "      <th>505</th>\n",
       "      <td>506</td>\n",
       "      <td>4</td>\n",
       "    </tr>\n",
       "    <tr>\n",
       "      <th>506</th>\n",
       "      <td>507</td>\n",
       "      <td>562</td>\n",
       "    </tr>\n",
       "    <tr>\n",
       "      <th>507</th>\n",
       "      <td>508</td>\n",
       "      <td>2</td>\n",
       "    </tr>\n",
       "  </tbody>\n",
       "</table>\n",
       "<p>508 rows × 2 columns</p>\n",
       "</div>"
      ],
      "text/plain": [
       "     Tupla  Num_Istanze\n",
       "0        1            6\n",
       "1        2            3\n",
       "2        3           61\n",
       "3        4           14\n",
       "4        5            2\n",
       "..     ...          ...\n",
       "503    504            2\n",
       "504    505            2\n",
       "505    506            4\n",
       "506    507          562\n",
       "507    508            2\n",
       "\n",
       "[508 rows x 2 columns]"
      ]
     },
     "execution_count": 118,
     "metadata": {},
     "output_type": "execute_result"
    }
   ],
   "source": [
    "df_ist"
   ]
  },
  {
   "cell_type": "code",
   "execution_count": 119,
   "metadata": {},
   "outputs": [
    {
     "name": "stdout",
     "output_type": "stream",
     "text": [
      "massimo num di istanze: 9825\n"
     ]
    }
   ],
   "source": [
    "max_ = 0\n",
    "for i in range(0, len(df_ist)):\n",
    "    if max_< df_ist['Num_Istanze'].values[i]:\n",
    "        max_ = df_ist['Num_Istanze'].values[i]\n",
    "        \n",
    "print(\"massimo num di istanze: \"+ str(max_))"
   ]
  },
  {
   "cell_type": "code",
   "execution_count": 18,
   "metadata": {},
   "outputs": [
    {
     "data": {
      "image/png": "[encoded data removed]",
      "text/plain": [
       "<Figure size 432x288 with 1 Axes>"
      ]
     },
     "metadata": {
      "needs_background": "light"
     },
     "output_type": "display_data"
    }
   ],
   "source": [
    "# lettura del file di statistiche totali \n",
    "\n",
    "perc = ''\n",
    "\n",
    "import matplotlib.pylab as plt\n",
    "import pandas as pd\n",
    "\n",
    "with open(perc+'/Stat_tot_Merc.txt') as f:\n",
    "    data = [_.rstrip('\\n') for _ in f.readlines()[5:11]]\n",
    "\n",
    "stat_cat = {}\n",
    "\n",
    "for i in range(len(data)):\n",
    "    stat = data[i].split(' ')\n",
    "    stat_cat[stat[0]] = int(stat[1])\n",
    "\n",
    "cat = stat_cat.items()\n",
    "x, y = zip(*cat)\n",
    "\n",
    "plt.bar(x,y, color=['r', 'y', 'b', 'g', 'k'])\n",
    "plt.xlabel(\"sottosistema\")\n",
    "plt.ylabel(\"numero di entry\")\n",
    "plt.show()\n",
    "\n"
   ]
  },
  {
   "cell_type": "code",
   "execution_count": 46,
   "metadata": {},
   "outputs": [
    {
     "name": "stdout",
     "output_type": "stream",
     "text": [
      "percetuale istanze di tg-c401: 77.10193682439953 %\n"
     ]
    }
   ],
   "source": [
    "p = statistics['tg-c401']/tot_entry*100\n",
    "print(\"percetuale istanze di tg-c401: \"+str(p)+\" %\")"
   ]
  },
  {
   "cell_type": "code",
   "execution_count": 27,
   "metadata": {},
   "outputs": [
    {
     "data": {
      "image/png": "[encoded data removed]",
      "text/plain": [
       "<Figure size 1008x288 with 1 Axes>"
      ]
     },
     "metadata": {
      "needs_background": "light"
     },
     "output_type": "display_data"
    }
   ],
   "source": [
    "perc = ''\n",
    "\n",
    "import matplotlib.pylab as plt\n",
    "import pandas as pd\n",
    "\n",
    "with open(perc+'/Stat_complete_Merc.txt') as f:\n",
    "    data = [_.rstrip('\\n') for _ in f.readlines()[13:66]]\n",
    "    \n",
    "stat_cat = {}\n",
    "\n",
    "for i in range(len(data)):\n",
    "    stat = data[i].split(' ')\n",
    "    stat_cat[stat[0]] = int(stat[1])\n",
    "\n",
    "cat = stat_cat.items()\n",
    "x, y = zip(*cat)\n",
    "\n",
    "plt.figure(figsize=(14,4))\n",
    "plt.bar(x,y)\n",
    "plt.xlabel(\"nodo\")\n",
    "plt.xticks(rotation=90)\n",
    "plt.ylabel(\"numero di entry\")\n",
    "plt.show()"
   ]
  },
  {
   "cell_type": "code",
   "execution_count": 37,
   "metadata": {},
   "outputs": [
    {
     "name": "stdout",
     "output_type": "stream",
     "text": [
      "Log file has 80854 entries and 5 columns.\n"
     ]
    },
    {
     "data": {
      "image/png": "[encoded data removed]",
      "text/plain": [
       "<Figure size 432x432 with 1 Axes>"
      ]
     },
     "metadata": {
      "needs_background": "light"
     },
     "output_type": "display_data"
    }
   ],
   "source": [
    "# raggruppo per tipo di nodo\n",
    "df_mercury = pd.read_csv(perc+'/MercuryErrorLog.txt', names = ['Timestamp', 'Node', 'Subsystem', 'Message'])\n",
    "\n",
    "df_mercury.loc[:,'Node'] = df_mercury.loc[:,'Timestamp'].str.split(' ', n=3).str[1]\n",
    "df_mercury.loc[:,'Subsystem'] = df_mercury.loc[:,'Timestamp'].str.split(' ', n=3).str[2]\n",
    "df_mercury.loc[:,'Message'] = df_mercury.loc[:,'Timestamp'].str.split(' ', n=3).str[3]\n",
    "df_mercury.loc[:,'Timestamp'] = df_mercury.loc[:,'Timestamp'].str.split(' ', n=3).str[0]\n",
    "\n",
    "df_mercury.loc[df_mercury['Node'].str.contains('login'), 'Type'] = 'login'\n",
    "df_mercury.loc[df_mercury['Node'].str.contains('c'), 'Type'] = 'computation'\n",
    "df_mercury.loc[df_mercury['Node'].str.contains('s'), 'Type'] = 'storage'\n",
    "df_mercury.loc[df_mercury['Node'].str.contains('master'), 'Type'] = 'master'\n",
    "\n",
    "print('Log file has ' + str(df_mercury.shape[0]) + ' entries and ' + str(df_mercury.shape[1]) + ' columns.')\n",
    "df_mercury.head()\n",
    "\n",
    "plt.figure(figsize=(6,6))\n",
    "df_mercury.groupby(by=['Type']).Timestamp.count().sort_values(ascending = False).plot.bar(\n",
    "    color=['mediumaquamarine','lightskyblue','lightcoral','khaki'])\n",
    "plt.ylabel('Entry')\n",
    "plt.show()"
   ]
  },
  {
   "cell_type": "code",
   "execution_count": 44,
   "metadata": {},
   "outputs": [
    {
     "data": {
      "image/png": "[encoded data removed]",
      "text/plain": [
       "<Figure size 432x432 with 1 Axes>"
      ]
     },
     "metadata": {
      "needs_background": "light"
     },
     "output_type": "display_data"
    }
   ],
   "source": [
    "df_mercury.groupby(by=['Subsystem','Type']).Timestamp.count().unstack(0).plot.bar(figsize=(6,6))\n",
    "plt.legend(title='Sottosistema')\n",
    "plt.xlabel('Tipologia Nodo')\n",
    "plt.ylabel('Numero Entry')\n",
    "plt.show()"
   ]
  },
  {
   "cell_type": "code",
   "execution_count": 84,
   "metadata": {},
   "outputs": [],
   "source": [
    "perc = ''\n",
    "\n",
    "df_mask_comp=df_mercury['Type']=='computation'\n",
    "df_comp = df_mercury[df_mask_comp]\n",
    "df_comp = df_comp.drop(columns='Type')\n",
    "df_comp.to_csv(perc+'/MercuryComputation.txt', index=False, header=False, sep=' ')\n",
    "\n",
    "df_mask_master=df_mercury['Type']=='master'\n",
    "df_master = df_mercury[df_mask_master]\n",
    "df_master = df_master.drop(columns='Type')\n",
    "df_master.to_csv(perc+'/MercuryMaster.txt', index=False, header=False, sep=' ')\n",
    "\n",
    "df_mask_login=df_mercury['Type']=='login'\n",
    "df_login = df_mercury[df_mask_login]\n",
    "df_login = df_login.drop(columns='Type')\n",
    "df_login.to_csv(perc+'/MercuryLogin.txt', index=False, header=False, sep=' ')\n",
    "\n",
    "df_mask_storage=df_mercury['Type']=='storage'\n",
    "df_storage = df_mercury[df_mask_storage]\n",
    "df_storage = df_storage.drop(columns='Type')\n",
    "df_storage.to_csv(perc+'/MercuryStorage.txt', index=False, header=False, sep=' ')"
   ]
  },
  {
   "cell_type": "markdown",
   "metadata": {},
   "source": [
    "# BLUE GENE L"
   ]
  },
  {
   "cell_type": "code",
   "execution_count": 2,
   "metadata": {},
   "outputs": [
    {
     "name": "stderr",
     "output_type": "stream",
     "text": [
      "C:\\Users\\domyb\\anaconda3\\lib\\site-packages\\IPython\\core\\interactiveshell.py:3146: DtypeWarning: Columns (2,3) have mixed types.Specify dtype option on import or set low_memory=False.\n",
      "  has_raised = await self.run_ast_nodes(code_ast.body, cell_name,\n"
     ]
    },
    {
     "name": "stdout",
     "output_type": "stream",
     "text": [
      "Log file has 125624 entries and 8 columns.\n"
     ]
    }
   ],
   "source": [
    "perc = ''\n",
    "\n",
    "df_bgl = pd.read_csv(perc+'/BGLErrorLog.txt', names = ['Timestamp', 'ID-Node','Rack', 'Midplane', 'Node', 'Card', 'Card type', 'Message'])\n",
    "\n",
    "df_bgl.loc[:,'ID-Node'] = df_bgl.loc[:,'Timestamp'].str.split(' ', n=3).str[1]\n",
    "\n",
    "df_bgl.loc[:,'Rack'] = df_bgl.loc[:,'ID-Node'].str.split('-', n=2).str[0]\n",
    "df_bgl.loc[:,'Midplane'] = df_bgl.loc[:,'ID-Node'].str.split('-', n=2).str[1]\n",
    "df_bgl.loc[:,'Node'] = df_bgl.loc[:,'ID-Node'].str.split('-', n=2).str[2]\n",
    "\n",
    "df_bgl.loc[:,'Card'] = df_bgl.loc[:,'Timestamp'].str.split(' ', n=3).str[2]\n",
    "\n",
    "df_bgl.loc[df_bgl['Card'].str.contains('J18'),'Card type'] = 'I-O'\n",
    "df_bgl.loc[~df_bgl['Card'].str.contains('J18'),'Card type'] = 'computation'\n",
    "\n",
    "\n",
    "df_bgl.loc[:,'Message'] = df_bgl.loc[:,'Timestamp'].str.split(' ', n=3).str[3].str.strip()\n",
    "df_bgl.loc[:,'Timestamp'] = df_bgl.loc[:,'Timestamp'].str.split(' ', n=3).str[0]\n",
    "\n",
    "print('Log file has ' + str(df_bgl.shape[0]) + ' entries and ' + str(df_bgl.shape[1]) + ' columns.')"
   ]
  },
  {
   "cell_type": "code",
   "execution_count": 7,
   "metadata": {},
   "outputs": [],
   "source": [
    "from tqdm import tnrange\n",
    "from tqdm import tqdm_notebook as tqdmn\n",
    "import os\n",
    "\n",
    "def tupling(dataframe, c_win, filepath):\n",
    "    if(not os.path.isfile(filepath)):\n",
    "        print('Creating file', filepath, 'this may take a while...\\n')\n",
    "        \n",
    "        tup = 0\n",
    "        prev = int(dataframe.loc[0,'Timestamp'])\n",
    "        dataframe.loc[0,'Tuple'] = 0\n",
    "\n",
    "        for index in tqdmn(range(dataframe.shape[0]-1)):\n",
    "            succ = int(dataframe.loc[index+1,'Timestamp'])\n",
    "            if  succ - prev >= c_win:\n",
    "                tup = tup + 1\n",
    "            dataframe.loc[index+1,'Tuple'] = tup\n",
    "            prev = succ\n",
    "            \n",
    "        dataframe.to_csv(filepath)\n",
    "\n",
    "    else:\n",
    "        print('File already exists!\\n')\n",
    "        dataframe = pd.read_csv(filepath, index_col = 0)\n",
    "    \n",
    "    return dataframe"
   ]
  },
  {
   "cell_type": "code",
   "execution_count": 8,
   "metadata": {},
   "outputs": [
    {
     "name": "stdout",
     "output_type": "stream",
     "text": [
      "File already exists!\n",
      "\n"
     ]
    }
   ],
   "source": [
    "#df_bgl = tupling(df_bgl, 200, perc+'/prova_tuple_python.txt')\n",
    "#df_bgl = df_bgl.astype({'Timestamp' : 'int32', 'Tuple' : 'int32'})"
   ]
  },
  {
   "cell_type": "code",
   "execution_count": 9,
   "metadata": {},
   "outputs": [
    {
     "data": {
      "image/png": "[encoded data removed]",
      "text/plain": [
       "<Figure size 864x432 with 1 Axes>"
      ]
     },
     "metadata": {
      "needs_background": "light"
     },
     "output_type": "display_data"
    }
   ],
   "source": [
    "df_group = df_bgl.groupby(by=['Tuple','Card type']).count()\n",
    "\n",
    "# cmap = cm.get_cmap('tab20')\n",
    "# colors = cmap.colors\n",
    "\n",
    "fig, ax = plt.subplots(figsize=(12,6))\n",
    "# ax.set_prop_cycle(color=colors)\n",
    "\n",
    "for card in df_bgl['Card type'].unique():\n",
    "    df_temp = df_group[df_group.index.get_level_values('Card type').isin([card])]\n",
    "    \n",
    "    x = df_temp.index.get_level_values(0)\n",
    "    y = df_temp['Timestamp']\n",
    "    plt.scatter(x,y, label=card, marker = '.')\n",
    "\n",
    "    \n",
    "plt.legend()\n",
    "plt.xlabel('tupla')\n",
    "plt.ylabel('numero istanze')\n",
    "plt.show()"
   ]
  },
  {
   "cell_type": "code",
   "execution_count": 10,
   "metadata": {},
   "outputs": [
    {
     "name": "stdout",
     "output_type": "stream",
     "text": [
      "percentuale istanze IO: 79.59227536139592\n",
      "percentuale istanze Computazionali: 20.407724638604087\n"
     ]
    }
   ],
   "source": [
    "df_gruppo = df_bgl.groupby(by='Card type').count()\n",
    "\n",
    "percent_io = df_gruppo.iloc[0,0]/df_bgl.shape[0]*100\n",
    "print('percentuale istanze IO: '+ str(percent_io))\n",
    "percent_comp = df_gruppo.iloc[1,1]/df_bgl.shape[0]*100\n",
    "print('percentuale istanze Computazionali: '+ str(percent_comp))"
   ]
  },
  {
   "cell_type": "code",
   "execution_count": 11,
   "metadata": {},
   "outputs": [
    {
     "data": {
      "text/html": [
       "<div>\n",
       "<style scoped>\n",
       "    .dataframe tbody tr th:only-of-type {\n",
       "        vertical-align: middle;\n",
       "    }\n",
       "\n",
       "    .dataframe tbody tr th {\n",
       "        vertical-align: top;\n",
       "    }\n",
       "\n",
       "    .dataframe thead th {\n",
       "        text-align: right;\n",
       "    }\n",
       "</style>\n",
       "<table border=\"1\" class=\"dataframe\">\n",
       "  <thead>\n",
       "    <tr style=\"text-align: right;\">\n",
       "      <th></th>\n",
       "      <th>Timestamp</th>\n",
       "      <th>ID-Node</th>\n",
       "      <th>Rack</th>\n",
       "      <th>Midplane</th>\n",
       "      <th>Node</th>\n",
       "      <th>Card</th>\n",
       "      <th>Card type</th>\n",
       "      <th>Message</th>\n",
       "      <th>Tuple</th>\n",
       "    </tr>\n",
       "  </thead>\n",
       "  <tbody>\n",
       "    <tr>\n",
       "      <th>0</th>\n",
       "      <td>1128621350</td>\n",
       "      <td>R00-M0-N0</td>\n",
       "      <td>R00</td>\n",
       "      <td>M0</td>\n",
       "      <td>N0</td>\n",
       "      <td>J18-U01</td>\n",
       "      <td>I-O</td>\n",
       "      <td>Lustre mount FAILED : bglio2 : block_id : loca...</td>\n",
       "      <td>0</td>\n",
       "    </tr>\n",
       "    <tr>\n",
       "      <th>1</th>\n",
       "      <td>1128621350</td>\n",
       "      <td>R01-M1-N0</td>\n",
       "      <td>R01</td>\n",
       "      <td>M1</td>\n",
       "      <td>N0</td>\n",
       "      <td>J18-U11</td>\n",
       "      <td>I-O</td>\n",
       "      <td>Lustre mount FAILED : bglio21 : block_id : loc...</td>\n",
       "      <td>0</td>\n",
       "    </tr>\n",
       "    <tr>\n",
       "      <th>2</th>\n",
       "      <td>1128621351</td>\n",
       "      <td>R07-M0-NC</td>\n",
       "      <td>R07</td>\n",
       "      <td>M0</td>\n",
       "      <td>NC</td>\n",
       "      <td>J18-U01</td>\n",
       "      <td>I-O</td>\n",
       "      <td>Lustre mount FAILED : bglio124 : block_id : lo...</td>\n",
       "      <td>0</td>\n",
       "    </tr>\n",
       "    <tr>\n",
       "      <th>3</th>\n",
       "      <td>1128621351</td>\n",
       "      <td>R00-M0-N4</td>\n",
       "      <td>R00</td>\n",
       "      <td>M0</td>\n",
       "      <td>N4</td>\n",
       "      <td>J18-U01</td>\n",
       "      <td>I-O</td>\n",
       "      <td>Lustre mount FAILED : bglio4 : block_id : loca...</td>\n",
       "      <td>0</td>\n",
       "    </tr>\n",
       "    <tr>\n",
       "      <th>4</th>\n",
       "      <td>1128621351</td>\n",
       "      <td>R02-M0-N4</td>\n",
       "      <td>R02</td>\n",
       "      <td>M0</td>\n",
       "      <td>N4</td>\n",
       "      <td>J18-U01</td>\n",
       "      <td>I-O</td>\n",
       "      <td>Lustre mount FAILED : bglio36 : block_id : loc...</td>\n",
       "      <td>0</td>\n",
       "    </tr>\n",
       "    <tr>\n",
       "      <th>...</th>\n",
       "      <td>...</td>\n",
       "      <td>...</td>\n",
       "      <td>...</td>\n",
       "      <td>...</td>\n",
       "      <td>...</td>\n",
       "      <td>...</td>\n",
       "      <td>...</td>\n",
       "      <td>...</td>\n",
       "      <td>...</td>\n",
       "    </tr>\n",
       "    <tr>\n",
       "      <th>125619</th>\n",
       "      <td>1136390405</td>\n",
       "      <td>R00-M0-NC</td>\n",
       "      <td>R00</td>\n",
       "      <td>M0</td>\n",
       "      <td>NC</td>\n",
       "      <td>J18-U11</td>\n",
       "      <td>I-O</td>\n",
       "      <td>idoproxy communication failure: socket closed</td>\n",
       "      <td>402</td>\n",
       "    </tr>\n",
       "    <tr>\n",
       "      <th>125620</th>\n",
       "      <td>1136390405</td>\n",
       "      <td>R36-M0-NC</td>\n",
       "      <td>R36</td>\n",
       "      <td>M0</td>\n",
       "      <td>NC</td>\n",
       "      <td>J18-U11</td>\n",
       "      <td>I-O</td>\n",
       "      <td>idoproxy communication failure: socket closed</td>\n",
       "      <td>402</td>\n",
       "    </tr>\n",
       "    <tr>\n",
       "      <th>125621</th>\n",
       "      <td>1136390405</td>\n",
       "      <td>R30-M0-NC</td>\n",
       "      <td>R30</td>\n",
       "      <td>M0</td>\n",
       "      <td>NC</td>\n",
       "      <td>J18-U11</td>\n",
       "      <td>I-O</td>\n",
       "      <td>idoproxy communication failure: socket closed</td>\n",
       "      <td>402</td>\n",
       "    </tr>\n",
       "    <tr>\n",
       "      <th>125622</th>\n",
       "      <td>1136390405</td>\n",
       "      <td>R31-M0-NC</td>\n",
       "      <td>R31</td>\n",
       "      <td>M0</td>\n",
       "      <td>NC</td>\n",
       "      <td>J18-U11</td>\n",
       "      <td>I-O</td>\n",
       "      <td>idoproxy communication failure: socket closed</td>\n",
       "      <td>402</td>\n",
       "    </tr>\n",
       "    <tr>\n",
       "      <th>125623</th>\n",
       "      <td>1136390405</td>\n",
       "      <td>R34-M0-NC</td>\n",
       "      <td>R34</td>\n",
       "      <td>M0</td>\n",
       "      <td>NC</td>\n",
       "      <td>J18-U11</td>\n",
       "      <td>I-O</td>\n",
       "      <td>idoproxy communication failure: socket closed</td>\n",
       "      <td>402</td>\n",
       "    </tr>\n",
       "  </tbody>\n",
       "</table>\n",
       "<p>125624 rows × 9 columns</p>\n",
       "</div>"
      ],
      "text/plain": [
       "         Timestamp    ID-Node Rack Midplane Node     Card Card type  \\\n",
       "0       1128621350  R00-M0-N0  R00       M0   N0  J18-U01       I-O   \n",
       "1       1128621350  R01-M1-N0  R01       M1   N0  J18-U11       I-O   \n",
       "2       1128621351  R07-M0-NC  R07       M0   NC  J18-U01       I-O   \n",
       "3       1128621351  R00-M0-N4  R00       M0   N4  J18-U01       I-O   \n",
       "4       1128621351  R02-M0-N4  R02       M0   N4  J18-U01       I-O   \n",
       "...            ...        ...  ...      ...  ...      ...       ...   \n",
       "125619  1136390405  R00-M0-NC  R00       M0   NC  J18-U11       I-O   \n",
       "125620  1136390405  R36-M0-NC  R36       M0   NC  J18-U11       I-O   \n",
       "125621  1136390405  R30-M0-NC  R30       M0   NC  J18-U11       I-O   \n",
       "125622  1136390405  R31-M0-NC  R31       M0   NC  J18-U11       I-O   \n",
       "125623  1136390405  R34-M0-NC  R34       M0   NC  J18-U11       I-O   \n",
       "\n",
       "                                                  Message  Tuple  \n",
       "0       Lustre mount FAILED : bglio2 : block_id : loca...      0  \n",
       "1       Lustre mount FAILED : bglio21 : block_id : loc...      0  \n",
       "2       Lustre mount FAILED : bglio124 : block_id : lo...      0  \n",
       "3       Lustre mount FAILED : bglio4 : block_id : loca...      0  \n",
       "4       Lustre mount FAILED : bglio36 : block_id : loc...      0  \n",
       "...                                                   ...    ...  \n",
       "125619      idoproxy communication failure: socket closed    402  \n",
       "125620      idoproxy communication failure: socket closed    402  \n",
       "125621      idoproxy communication failure: socket closed    402  \n",
       "125622      idoproxy communication failure: socket closed    402  \n",
       "125623      idoproxy communication failure: socket closed    402  \n",
       "\n",
       "[125624 rows x 9 columns]"
      ]
     },
     "execution_count": 11,
     "metadata": {},
     "output_type": "execute_result"
    }
   ],
   "source": []
  },
  {
   "cell_type": "code",
   "execution_count": 36,
   "metadata": {},
   "outputs": [
    {
     "data": {
      "image/png": "[encoded data removed]",
      "text/plain": [
       "<Figure size 864x432 with 1 Axes>"
      ]
     },
     "metadata": {
      "needs_background": "light"
     },
     "output_type": "display_data"
    }
   ],
   "source": [
    "plt.figure(figsize=(12,6))\n",
    "df_bgl.groupby(by='Rack').Timestamp.count().sort_values().plot.bar(color='orange')\n",
    "plt.xticks(rotation=90)\n",
    "plt.ylabel('Entry')\n",
    "plt.show()"
   ]
  },
  {
   "cell_type": "code",
   "execution_count": 54,
   "metadata": {},
   "outputs": [
    {
     "name": "stdout",
     "output_type": "stream",
     "text": [
      "125624\n"
     ]
    },
    {
     "ename": "ValueError",
     "evalue": "No axis named 62 for object type DataFrame",
     "output_type": "error",
     "traceback": [
      "\u001b[1;31m---------------------------------------------------------------------------\u001b[0m",
      "\u001b[1;31mKeyError\u001b[0m                                  Traceback (most recent call last)",
      "\u001b[1;32m~\\anaconda3\\lib\\site-packages\\pandas\\core\\generic.py\u001b[0m in \u001b[0;36m_get_axis_number\u001b[1;34m(cls, axis)\u001b[0m\n\u001b[0;32m    367\u001b[0m         \u001b[1;32mtry\u001b[0m\u001b[1;33m:\u001b[0m\u001b[1;33m\u001b[0m\u001b[1;33m\u001b[0m\u001b[0m\n\u001b[1;32m--> 368\u001b[1;33m             \u001b[1;32mreturn\u001b[0m \u001b[0mcls\u001b[0m\u001b[1;33m.\u001b[0m\u001b[0m_AXIS_TO_AXIS_NUMBER\u001b[0m\u001b[1;33m[\u001b[0m\u001b[0maxis\u001b[0m\u001b[1;33m]\u001b[0m\u001b[1;33m\u001b[0m\u001b[1;33m\u001b[0m\u001b[0m\n\u001b[0m\u001b[0;32m    369\u001b[0m         \u001b[1;32mexcept\u001b[0m \u001b[0mKeyError\u001b[0m\u001b[1;33m:\u001b[0m\u001b[1;33m\u001b[0m\u001b[1;33m\u001b[0m\u001b[0m\n",
      "\u001b[1;31mKeyError\u001b[0m: 62",
      "\nDuring handling of the above exception, another exception occurred:\n",
      "\u001b[1;31mValueError\u001b[0m                                Traceback (most recent call last)",
      "\u001b[1;32m<ipython-input-54-083b6a3e2dc3>\u001b[0m in \u001b[0;36m<module>\u001b[1;34m\u001b[0m\n\u001b[0;32m      9\u001b[0m \u001b[0mdf_rack_filt\u001b[0m \u001b[1;33m=\u001b[0m \u001b[0mpd\u001b[0m\u001b[1;33m.\u001b[0m\u001b[0mDataFrame\u001b[0m\u001b[1;33m(\u001b[0m\u001b[1;33m)\u001b[0m\u001b[1;33m\u001b[0m\u001b[1;33m\u001b[0m\u001b[0m\n\u001b[0;32m     10\u001b[0m \u001b[1;32mfor\u001b[0m \u001b[0mr\u001b[0m \u001b[1;32min\u001b[0m \u001b[0mrack\u001b[0m\u001b[1;33m:\u001b[0m\u001b[1;33m\u001b[0m\u001b[1;33m\u001b[0m\u001b[0m\n\u001b[1;32m---> 11\u001b[1;33m     \u001b[0mdf_rack_filt\u001b[0m\u001b[1;33m[\u001b[0m\u001b[1;36m0\u001b[0m\u001b[1;33m]\u001b[0m\u001b[1;33m=\u001b[0m\u001b[0mdf_rack\u001b[0m\u001b[1;33m.\u001b[0m\u001b[0miloc\u001b[0m\u001b[1;33m(\u001b[0m\u001b[0mr\u001b[0m\u001b[1;33m)\u001b[0m\u001b[1;33m\u001b[0m\u001b[1;33m\u001b[0m\u001b[0m\n\u001b[0m",
      "\u001b[1;32m~\\anaconda3\\lib\\site-packages\\pandas\\core\\indexing.py\u001b[0m in \u001b[0;36m__call__\u001b[1;34m(self, axis)\u001b[0m\n\u001b[0;32m    582\u001b[0m \u001b[1;33m\u001b[0m\u001b[0m\n\u001b[0;32m    583\u001b[0m         \u001b[1;32mif\u001b[0m \u001b[0maxis\u001b[0m \u001b[1;32mis\u001b[0m \u001b[1;32mnot\u001b[0m \u001b[1;32mNone\u001b[0m\u001b[1;33m:\u001b[0m\u001b[1;33m\u001b[0m\u001b[1;33m\u001b[0m\u001b[0m\n\u001b[1;32m--> 584\u001b[1;33m             \u001b[0maxis\u001b[0m \u001b[1;33m=\u001b[0m \u001b[0mself\u001b[0m\u001b[1;33m.\u001b[0m\u001b[0mobj\u001b[0m\u001b[1;33m.\u001b[0m\u001b[0m_get_axis_number\u001b[0m\u001b[1;33m(\u001b[0m\u001b[0maxis\u001b[0m\u001b[1;33m)\u001b[0m\u001b[1;33m\u001b[0m\u001b[1;33m\u001b[0m\u001b[0m\n\u001b[0m\u001b[0;32m    585\u001b[0m         \u001b[0mnew_self\u001b[0m\u001b[1;33m.\u001b[0m\u001b[0maxis\u001b[0m \u001b[1;33m=\u001b[0m \u001b[0maxis\u001b[0m\u001b[1;33m\u001b[0m\u001b[1;33m\u001b[0m\u001b[0m\n\u001b[0;32m    586\u001b[0m         \u001b[1;32mreturn\u001b[0m \u001b[0mnew_self\u001b[0m\u001b[1;33m\u001b[0m\u001b[1;33m\u001b[0m\u001b[0m\n",
      "\u001b[1;32m~\\anaconda3\\lib\\site-packages\\pandas\\core\\generic.py\u001b[0m in \u001b[0;36m_get_axis_number\u001b[1;34m(cls, axis)\u001b[0m\n\u001b[0;32m    368\u001b[0m             \u001b[1;32mreturn\u001b[0m \u001b[0mcls\u001b[0m\u001b[1;33m.\u001b[0m\u001b[0m_AXIS_TO_AXIS_NUMBER\u001b[0m\u001b[1;33m[\u001b[0m\u001b[0maxis\u001b[0m\u001b[1;33m]\u001b[0m\u001b[1;33m\u001b[0m\u001b[1;33m\u001b[0m\u001b[0m\n\u001b[0;32m    369\u001b[0m         \u001b[1;32mexcept\u001b[0m \u001b[0mKeyError\u001b[0m\u001b[1;33m:\u001b[0m\u001b[1;33m\u001b[0m\u001b[1;33m\u001b[0m\u001b[0m\n\u001b[1;32m--> 370\u001b[1;33m             \u001b[1;32mraise\u001b[0m \u001b[0mValueError\u001b[0m\u001b[1;33m(\u001b[0m\u001b[1;34mf\"No axis named {axis} for object type {cls.__name__}\"\u001b[0m\u001b[1;33m)\u001b[0m\u001b[1;33m\u001b[0m\u001b[1;33m\u001b[0m\u001b[0m\n\u001b[0m\u001b[0;32m    371\u001b[0m \u001b[1;33m\u001b[0m\u001b[0m\n\u001b[0;32m    372\u001b[0m     \u001b[1;33m@\u001b[0m\u001b[0mclassmethod\u001b[0m\u001b[1;33m\u001b[0m\u001b[1;33m\u001b[0m\u001b[0m\n",
      "\u001b[1;31mValueError\u001b[0m: No axis named 62 for object type DataFrame"
     ]
    }
   ],
   "source": [
    "df_rack = df_bgl.groupby(by='Rack').count()\n",
    "df_rack.sort_values(by='Timestamp')\n",
    "\n",
    "print(df_rack['Timestamp'].sum())\n",
    "#print(df_rack[df_rack.Rack==['R63','R62','R57','R56','R46', 'R03']].sum())\n",
    "\n",
    "rack = [62,61,56,55,45,2]\n",
    "rack_s = ['R63','R62','R57','R56','R46', 'R03']\n",
    "\n",
    "df_rack_filt = pd.DataFrame()\n",
    "for r in rack:\n",
    "    df_rack_filt[0]=df_rack.iloc(r)"
   ]
  },
  {
   "cell_type": "code",
   "execution_count": 55,
   "metadata": {},
   "outputs": [],
   "source": [
    "n = 8 \n",
    "top_rack = df_bgl.groupby(by=['Rack']).Timestamp.count().sort_values(ascending=False)[0:n].index\n",
    "\n",
    "df_top_rack = df_bgl.loc[df_bgl['Rack'] == top_rack[0]]\n",
    "for r in range(1,n):\n",
    "    df_top_rack = df_top_rack.append(df_bgl.loc[df_bgl['Rack'] == top_rack[r]])"
   ]
  },
  {
   "cell_type": "code",
   "execution_count": 83,
   "metadata": {},
   "outputs": [
    {
     "data": {
      "image/png": "[encoded data removed]",
      "text/plain": [
       "<Figure size 432x576 with 1 Axes>"
      ]
     },
     "metadata": {
      "needs_background": "light"
     },
     "output_type": "display_data"
    }
   ],
   "source": [
    "df_rack_card = df_top_rack.groupby(by='Card').count().sort_values(by='Timestamp')\n",
    "\n",
    "x=df_rack_card.index.get_level_values(0)\n",
    "y=df_rack_card['Timestamp']\n",
    "\n",
    "plt.figure(figsize=(6,8))\n",
    "plt.barh(x,y, color='green')\n",
    "plt.xlabel('Entry')\n",
    "plt.ylabel('Card')\n",
    "plt.show()"
   ]
  },
  {
   "cell_type": "code",
   "execution_count": 72,
   "metadata": {},
   "outputs": [
    {
     "data": {
      "image/png": "[encoded data removed]",
      "text/plain": [
       "<Figure size 432x288 with 1 Axes>"
      ]
     },
     "metadata": {
      "needs_background": "light"
     },
     "output_type": "display_data"
    }
   ],
   "source": [
    "df_top_rack.groupby(by=['Rack', 'Midplane']).Timestamp.count().unstack(1).sort_values(by='M0').plot.bar(figsize=(6,4))\n",
    "plt.xticks(rotation=0)\n",
    "plt.show()"
   ]
  },
  {
   "cell_type": "code",
   "execution_count": 87,
   "metadata": {},
   "outputs": [
    {
     "data": {
      "image/png": "[encoded data removed]",
      "text/plain": [
       "<Figure size 864x432 with 1 Axes>"
      ]
     },
     "metadata": {
      "needs_background": "light"
     },
     "output_type": "display_data"
    }
   ],
   "source": [
    "df_top_rack.groupby(by=['Rack', 'Midplane', 'Node']).Timestamp.count().unstack(2).plot.bar(figsize=(12,6))\n",
    "plt.show()"
   ]
  },
  {
   "cell_type": "code",
   "execution_count": null,
   "metadata": {},
   "outputs": [],
   "source": [
    "df_temp = df_top_rack.groupby(by=['Rack', 'Midplane', 'Node']).Timestamp.count().unstack(2)\n",
    "\n",
    "df_temp = df_temp.fillna(0)"
   ]
  },
  {
   "cell_type": "code",
   "execution_count": 118,
   "metadata": {},
   "outputs": [
    {
     "data": {
      "text/html": [
       "<div>\n",
       "<style scoped>\n",
       "    .dataframe tbody tr th:only-of-type {\n",
       "        vertical-align: middle;\n",
       "    }\n",
       "\n",
       "    .dataframe tbody tr th {\n",
       "        vertical-align: top;\n",
       "    }\n",
       "\n",
       "    .dataframe thead th {\n",
       "        text-align: right;\n",
       "    }\n",
       "</style>\n",
       "<table border=\"1\" class=\"dataframe\">\n",
       "  <thead>\n",
       "    <tr style=\"text-align: right;\">\n",
       "      <th></th>\n",
       "      <th>Timestamp</th>\n",
       "      <th>ID-Node</th>\n",
       "      <th>Card</th>\n",
       "      <th>Message</th>\n",
       "    </tr>\n",
       "  </thead>\n",
       "  <tbody>\n",
       "    <tr>\n",
       "      <th>0</th>\n",
       "      <td>1128641357</td>\n",
       "      <td>R71-M1-NC</td>\n",
       "      <td>J18-U11</td>\n",
       "      <td>ciod: Error reading message prefix after LOGIN...</td>\n",
       "    </tr>\n",
       "    <tr>\n",
       "      <th>1</th>\n",
       "      <td>1128641357</td>\n",
       "      <td>R71-M1-NC</td>\n",
       "      <td>J18-U01</td>\n",
       "      <td>ciod: Error reading message prefix after LOGIN...</td>\n",
       "    </tr>\n",
       "    <tr>\n",
       "      <th>2</th>\n",
       "      <td>1128641360</td>\n",
       "      <td>R71-M1-N8</td>\n",
       "      <td>J18-U11</td>\n",
       "      <td>ciod: Error reading message prefix after LOGIN...</td>\n",
       "    </tr>\n",
       "    <tr>\n",
       "      <th>3</th>\n",
       "      <td>1128641360</td>\n",
       "      <td>R71-M1-N8</td>\n",
       "      <td>J18-U01</td>\n",
       "      <td>ciod: Error reading message prefix after LOGIN...</td>\n",
       "    </tr>\n",
       "    <tr>\n",
       "      <th>4</th>\n",
       "      <td>1128641362</td>\n",
       "      <td>R71-M1-N4</td>\n",
       "      <td>J18-U11</td>\n",
       "      <td>ciod: Error reading message prefix after LOGIN...</td>\n",
       "    </tr>\n",
       "    <tr>\n",
       "      <th>...</th>\n",
       "      <td>...</td>\n",
       "      <td>...</td>\n",
       "      <td>...</td>\n",
       "      <td>...</td>\n",
       "    </tr>\n",
       "    <tr>\n",
       "      <th>2810</th>\n",
       "      <td>1136322640</td>\n",
       "      <td>R71-M1-N8</td>\n",
       "      <td>J18-U11</td>\n",
       "      <td>Lustre mount FAILED : bglio925 : block_id : lo...</td>\n",
       "    </tr>\n",
       "    <tr>\n",
       "      <th>2811</th>\n",
       "      <td>1136322652</td>\n",
       "      <td>R71-M1-N4</td>\n",
       "      <td>J18-U11</td>\n",
       "      <td>Lustre mount FAILED : bglio919 : block_id : lo...</td>\n",
       "    </tr>\n",
       "    <tr>\n",
       "      <th>2812</th>\n",
       "      <td>1136322652</td>\n",
       "      <td>R71-M0-NC</td>\n",
       "      <td>J18-U11</td>\n",
       "      <td>Lustre mount FAILED : bglio923 : block_id : lo...</td>\n",
       "    </tr>\n",
       "    <tr>\n",
       "      <th>2813</th>\n",
       "      <td>1136322654</td>\n",
       "      <td>R71-M0-N0</td>\n",
       "      <td>J18-U01</td>\n",
       "      <td>Lustre mount FAILED : bglio914 : block_id : lo...</td>\n",
       "    </tr>\n",
       "    <tr>\n",
       "      <th>2814</th>\n",
       "      <td>1136322666</td>\n",
       "      <td>R71-M1-N4</td>\n",
       "      <td>J18-U01</td>\n",
       "      <td>Lustre mount FAILED : bglio920 : block_id : lo...</td>\n",
       "    </tr>\n",
       "  </tbody>\n",
       "</table>\n",
       "<p>2815 rows × 4 columns</p>\n",
       "</div>"
      ],
      "text/plain": [
       "       Timestamp    ID-Node     Card  \\\n",
       "0     1128641357  R71-M1-NC  J18-U11   \n",
       "1     1128641357  R71-M1-NC  J18-U01   \n",
       "2     1128641360  R71-M1-N8  J18-U11   \n",
       "3     1128641360  R71-M1-N8  J18-U01   \n",
       "4     1128641362  R71-M1-N4  J18-U11   \n",
       "...          ...        ...      ...   \n",
       "2810  1136322640  R71-M1-N8  J18-U11   \n",
       "2811  1136322652  R71-M1-N4  J18-U11   \n",
       "2812  1136322652  R71-M0-NC  J18-U11   \n",
       "2813  1136322654  R71-M0-N0  J18-U01   \n",
       "2814  1136322666  R71-M1-N4  J18-U01   \n",
       "\n",
       "                                                Message  \n",
       "0     ciod: Error reading message prefix after LOGIN...  \n",
       "1     ciod: Error reading message prefix after LOGIN...  \n",
       "2     ciod: Error reading message prefix after LOGIN...  \n",
       "3     ciod: Error reading message prefix after LOGIN...  \n",
       "4     ciod: Error reading message prefix after LOGIN...  \n",
       "...                                                 ...  \n",
       "2810  Lustre mount FAILED : bglio925 : block_id : lo...  \n",
       "2811  Lustre mount FAILED : bglio919 : block_id : lo...  \n",
       "2812  Lustre mount FAILED : bglio923 : block_id : lo...  \n",
       "2813  Lustre mount FAILED : bglio914 : block_id : lo...  \n",
       "2814  Lustre mount FAILED : bglio920 : block_id : lo...  \n",
       "\n",
       "[2815 rows x 4 columns]"
      ]
     },
     "execution_count": 118,
     "metadata": {},
     "output_type": "execute_result"
    }
   ],
   "source": [
    "import numpy as np\n",
    "\n",
    "c_wins = np.delete(np.arange(0,500,1), 0)\n",
    "\n",
    "for rack in top_rack:\n",
    "    df_temp = df_bgl.loc[df_bgl['Rack'] == rack]\n",
    "    df_temp.reset_index(drop = True, inplace = True)\n",
    "    \n",
    "    del df_temp['Rack']\n",
    "    del df_temp['Midplane']\n",
    "    del df_temp['Node']\n",
    "    del df_temp['Tuple']\n",
    "    del df_temp['Card type']\n",
    "    filepath = perc+'/BGL-' + rack + '-Sensitivity.txt'\n",
    "    df_temp.to_csv(filepath, index=False, sep=' ', header=False)\n",
    "    \n",
    "df_temp"
   ]
  },
  {
   "cell_type": "code",
   "execution_count": 3,
   "metadata": {},
   "outputs": [
    {
     "name": "stderr",
     "output_type": "stream",
     "text": [
      "<ipython-input-3-f052d3650ff0>:14: ParserWarning: Falling back to the 'python' engine because the 'c' engine does not support regex separators (separators > 1 char and different from '\\s+' are interpreted as regex); you can avoid this warning by specifying engine='python'.\n",
      "  df_temp_sensitivity = pd.read_csv(filepath, sep='  ', names=[labelW, labelR])\n"
     ]
    },
    {
     "data": {
      "image/png": "[encoded data removed]",
      "text/plain": [
       "<Figure size 864x432 with 1 Axes>"
      ]
     },
     "metadata": {
      "needs_background": "light"
     },
     "output_type": "display_data"
    },
    {
     "name": "stderr",
     "output_type": "stream",
     "text": [
      "<ipython-input-3-f052d3650ff0>:14: ParserWarning: Falling back to the 'python' engine because the 'c' engine does not support regex separators (separators > 1 char and different from '\\s+' are interpreted as regex); you can avoid this warning by specifying engine='python'.\n",
      "  df_temp_sensitivity = pd.read_csv(filepath, sep='  ', names=[labelW, labelR])\n"
     ]
    },
    {
     "data": {
      "image/png": "[encoded data removed]",
      "text/plain": [
       "<Figure size 864x432 with 1 Axes>"
      ]
     },
     "metadata": {
      "needs_background": "light"
     },
     "output_type": "display_data"
    },
    {
     "name": "stderr",
     "output_type": "stream",
     "text": [
      "<ipython-input-3-f052d3650ff0>:14: ParserWarning: Falling back to the 'python' engine because the 'c' engine does not support regex separators (separators > 1 char and different from '\\s+' are interpreted as regex); you can avoid this warning by specifying engine='python'.\n",
      "  df_temp_sensitivity = pd.read_csv(filepath, sep='  ', names=[labelW, labelR])\n"
     ]
    },
    {
     "data": {
      "image/png": "[encoded data removed]",
      "text/plain": [
       "<Figure size 864x432 with 1 Axes>"
      ]
     },
     "metadata": {
      "needs_background": "light"
     },
     "output_type": "display_data"
    },
    {
     "name": "stderr",
     "output_type": "stream",
     "text": [
      "<ipython-input-3-f052d3650ff0>:14: ParserWarning: Falling back to the 'python' engine because the 'c' engine does not support regex separators (separators > 1 char and different from '\\s+' are interpreted as regex); you can avoid this warning by specifying engine='python'.\n",
      "  df_temp_sensitivity = pd.read_csv(filepath, sep='  ', names=[labelW, labelR])\n"
     ]
    },
    {
     "data": {
      "image/png": "[encoded data removed]",
      "text/plain": [
       "<Figure size 864x432 with 1 Axes>"
      ]
     },
     "metadata": {
      "needs_background": "light"
     },
     "output_type": "display_data"
    },
    {
     "name": "stderr",
     "output_type": "stream",
     "text": [
      "<ipython-input-3-f052d3650ff0>:14: ParserWarning: Falling back to the 'python' engine because the 'c' engine does not support regex separators (separators > 1 char and different from '\\s+' are interpreted as regex); you can avoid this warning by specifying engine='python'.\n",
      "  df_temp_sensitivity = pd.read_csv(filepath, sep='  ', names=[labelW, labelR])\n"
     ]
    },
    {
     "data": {
      "image/png": "[encoded data removed]",
      "text/plain": [
       "<Figure size 864x432 with 1 Axes>"
      ]
     },
     "metadata": {
      "needs_background": "light"
     },
     "output_type": "display_data"
    },
    {
     "name": "stderr",
     "output_type": "stream",
     "text": [
      "<ipython-input-3-f052d3650ff0>:14: ParserWarning: Falling back to the 'python' engine because the 'c' engine does not support regex separators (separators > 1 char and different from '\\s+' are interpreted as regex); you can avoid this warning by specifying engine='python'.\n",
      "  df_temp_sensitivity = pd.read_csv(filepath, sep='  ', names=[labelW, labelR])\n"
     ]
    },
    {
     "data": {
      "image/png": "[encoded data removed]",
      "text/plain": [
       "<Figure size 864x432 with 1 Axes>"
      ]
     },
     "metadata": {
      "needs_background": "light"
     },
     "output_type": "display_data"
    },
    {
     "name": "stderr",
     "output_type": "stream",
     "text": [
      "<ipython-input-3-f052d3650ff0>:14: ParserWarning: Falling back to the 'python' engine because the 'c' engine does not support regex separators (separators > 1 char and different from '\\s+' are interpreted as regex); you can avoid this warning by specifying engine='python'.\n",
      "  df_temp_sensitivity = pd.read_csv(filepath, sep='  ', names=[labelW, labelR])\n"
     ]
    },
    {
     "data": {
      "image/png": "[encoded data removed]",
      "text/plain": [
       "<Figure size 864x432 with 1 Axes>"
      ]
     },
     "metadata": {
      "needs_background": "light"
     },
     "output_type": "display_data"
    },
    {
     "name": "stderr",
     "output_type": "stream",
     "text": [
      "<ipython-input-3-f052d3650ff0>:14: ParserWarning: Falling back to the 'python' engine because the 'c' engine does not support regex separators (separators > 1 char and different from '\\s+' are interpreted as regex); you can avoid this warning by specifying engine='python'.\n",
      "  df_temp_sensitivity = pd.read_csv(filepath, sep='  ', names=[labelW, labelR])\n"
     ]
    },
    {
     "data": {
      "image/png": "[encoded data removed]",
      "text/plain": [
       "<Figure size 864x432 with 1 Axes>"
      ]
     },
     "metadata": {
      "needs_background": "light"
     },
     "output_type": "display_data"
    }
   ],
   "source": [
    "import pandas as pd\n",
    "import numpy as np\n",
    "\n",
    "perc = ''\n",
    "\n",
    "Rk_list = ['R63', 'R62', 'R57', 'R56', 'R46', 'R71', 'R12', 'R03']\n",
    "\n",
    "df_tot = pd.DataFrame()\n",
    "\n",
    "for rack in Rk_list:\n",
    "    filepath = perc+'/tupleCount-BGL-' + rack + '-Sensitivity.txt'\n",
    "    labelW = str('Window'+rack)\n",
    "    labelR = str('Tuple'+rack)\n",
    "    df_temp_sensitivity = pd.read_csv(filepath, sep='  ', names=[labelW, labelR])\n",
    "    df_tot = pd.concat([df_tot, df_temp_sensitivity], axis=1)\n",
    "    x = df_temp_sensitivity[labelW]\n",
    "    y = df_temp_sensitivity[labelR]\n",
    "    plt.figure(figsize=(12,6))\n",
    "    plt.plot(x, y, label = '# Tuples')\n",
    "    plt.title(rack)\n",
    "    plt.xlim(0,500)\n",
    "    plt.xticks(np.arange(0, 500, step = 25))\n",
    "    plt.xlabel('Window (s)')\n",
    "    plt.ylabel('Tuples')\n",
    "    plt.legend()\n",
    "    plt.grid()\n",
    "    plt.show()"
   ]
  },
  {
   "cell_type": "code",
   "execution_count": 4,
   "metadata": {},
   "outputs": [
    {
     "data": {
      "text/html": [
       "<div>\n",
       "<style scoped>\n",
       "    .dataframe tbody tr th:only-of-type {\n",
       "        vertical-align: middle;\n",
       "    }\n",
       "\n",
       "    .dataframe tbody tr th {\n",
       "        vertical-align: top;\n",
       "    }\n",
       "\n",
       "    .dataframe thead th {\n",
       "        text-align: right;\n",
       "    }\n",
       "</style>\n",
       "<table border=\"1\" class=\"dataframe\">\n",
       "  <thead>\n",
       "    <tr style=\"text-align: right;\">\n",
       "      <th></th>\n",
       "      <th>WindowR63</th>\n",
       "      <th>TupleR63</th>\n",
       "      <th>WindowR62</th>\n",
       "      <th>TupleR62</th>\n",
       "      <th>WindowR57</th>\n",
       "      <th>TupleR57</th>\n",
       "      <th>WindowR56</th>\n",
       "      <th>TupleR56</th>\n",
       "      <th>WindowR46</th>\n",
       "      <th>TupleR46</th>\n",
       "      <th>WindowR71</th>\n",
       "      <th>TupleR71</th>\n",
       "      <th>WindowR12</th>\n",
       "      <th>TupleR12</th>\n",
       "      <th>WindowR03</th>\n",
       "      <th>TupleR03</th>\n",
       "    </tr>\n",
       "  </thead>\n",
       "  <tbody>\n",
       "    <tr>\n",
       "      <th>0</th>\n",
       "      <td>10</td>\n",
       "      <td>227</td>\n",
       "      <td>10</td>\n",
       "      <td>274</td>\n",
       "      <td>10</td>\n",
       "      <td>292</td>\n",
       "      <td>10</td>\n",
       "      <td>267</td>\n",
       "      <td>10</td>\n",
       "      <td>307</td>\n",
       "      <td>10</td>\n",
       "      <td>223</td>\n",
       "      <td>10</td>\n",
       "      <td>268</td>\n",
       "      <td>10</td>\n",
       "      <td>188</td>\n",
       "    </tr>\n",
       "    <tr>\n",
       "      <th>1</th>\n",
       "      <td>50</td>\n",
       "      <td>182</td>\n",
       "      <td>50</td>\n",
       "      <td>159</td>\n",
       "      <td>50</td>\n",
       "      <td>127</td>\n",
       "      <td>50</td>\n",
       "      <td>137</td>\n",
       "      <td>50</td>\n",
       "      <td>132</td>\n",
       "      <td>50</td>\n",
       "      <td>119</td>\n",
       "      <td>50</td>\n",
       "      <td>132</td>\n",
       "      <td>50</td>\n",
       "      <td>141</td>\n",
       "    </tr>\n",
       "    <tr>\n",
       "      <th>2</th>\n",
       "      <td>150</td>\n",
       "      <td>130</td>\n",
       "      <td>150</td>\n",
       "      <td>121</td>\n",
       "      <td>150</td>\n",
       "      <td>96</td>\n",
       "      <td>150</td>\n",
       "      <td>99</td>\n",
       "      <td>150</td>\n",
       "      <td>103</td>\n",
       "      <td>150</td>\n",
       "      <td>81</td>\n",
       "      <td>150</td>\n",
       "      <td>89</td>\n",
       "      <td>150</td>\n",
       "      <td>87</td>\n",
       "    </tr>\n",
       "    <tr>\n",
       "      <th>3</th>\n",
       "      <td>180</td>\n",
       "      <td>128</td>\n",
       "      <td>180</td>\n",
       "      <td>119</td>\n",
       "      <td>180</td>\n",
       "      <td>96</td>\n",
       "      <td>180</td>\n",
       "      <td>98</td>\n",
       "      <td>180</td>\n",
       "      <td>103</td>\n",
       "      <td>180</td>\n",
       "      <td>81</td>\n",
       "      <td>180</td>\n",
       "      <td>89</td>\n",
       "      <td>180</td>\n",
       "      <td>87</td>\n",
       "    </tr>\n",
       "    <tr>\n",
       "      <th>4</th>\n",
       "      <td>200</td>\n",
       "      <td>128</td>\n",
       "      <td>200</td>\n",
       "      <td>119</td>\n",
       "      <td>200</td>\n",
       "      <td>96</td>\n",
       "      <td>200</td>\n",
       "      <td>98</td>\n",
       "      <td>200</td>\n",
       "      <td>101</td>\n",
       "      <td>200</td>\n",
       "      <td>81</td>\n",
       "      <td>200</td>\n",
       "      <td>87</td>\n",
       "      <td>200</td>\n",
       "      <td>87</td>\n",
       "    </tr>\n",
       "    <tr>\n",
       "      <th>5</th>\n",
       "      <td>220</td>\n",
       "      <td>127</td>\n",
       "      <td>220</td>\n",
       "      <td>118</td>\n",
       "      <td>220</td>\n",
       "      <td>95</td>\n",
       "      <td>220</td>\n",
       "      <td>96</td>\n",
       "      <td>220</td>\n",
       "      <td>101</td>\n",
       "      <td>220</td>\n",
       "      <td>80</td>\n",
       "      <td>220</td>\n",
       "      <td>87</td>\n",
       "      <td>220</td>\n",
       "      <td>87</td>\n",
       "    </tr>\n",
       "    <tr>\n",
       "      <th>6</th>\n",
       "      <td>230</td>\n",
       "      <td>127</td>\n",
       "      <td>230</td>\n",
       "      <td>115</td>\n",
       "      <td>230</td>\n",
       "      <td>95</td>\n",
       "      <td>230</td>\n",
       "      <td>95</td>\n",
       "      <td>230</td>\n",
       "      <td>101</td>\n",
       "      <td>230</td>\n",
       "      <td>80</td>\n",
       "      <td>230</td>\n",
       "      <td>85</td>\n",
       "      <td>230</td>\n",
       "      <td>86</td>\n",
       "    </tr>\n",
       "    <tr>\n",
       "      <th>7</th>\n",
       "      <td>240</td>\n",
       "      <td>127</td>\n",
       "      <td>240</td>\n",
       "      <td>114</td>\n",
       "      <td>240</td>\n",
       "      <td>95</td>\n",
       "      <td>240</td>\n",
       "      <td>95</td>\n",
       "      <td>240</td>\n",
       "      <td>100</td>\n",
       "      <td>240</td>\n",
       "      <td>79</td>\n",
       "      <td>240</td>\n",
       "      <td>84</td>\n",
       "      <td>240</td>\n",
       "      <td>86</td>\n",
       "    </tr>\n",
       "    <tr>\n",
       "      <th>8</th>\n",
       "      <td>250</td>\n",
       "      <td>125</td>\n",
       "      <td>250</td>\n",
       "      <td>113</td>\n",
       "      <td>250</td>\n",
       "      <td>95</td>\n",
       "      <td>250</td>\n",
       "      <td>95</td>\n",
       "      <td>250</td>\n",
       "      <td>100</td>\n",
       "      <td>250</td>\n",
       "      <td>79</td>\n",
       "      <td>250</td>\n",
       "      <td>83</td>\n",
       "      <td>250</td>\n",
       "      <td>83</td>\n",
       "    </tr>\n",
       "    <tr>\n",
       "      <th>9</th>\n",
       "      <td>290</td>\n",
       "      <td>123</td>\n",
       "      <td>290</td>\n",
       "      <td>113</td>\n",
       "      <td>290</td>\n",
       "      <td>95</td>\n",
       "      <td>290</td>\n",
       "      <td>95</td>\n",
       "      <td>290</td>\n",
       "      <td>100</td>\n",
       "      <td>290</td>\n",
       "      <td>78</td>\n",
       "      <td>290</td>\n",
       "      <td>80</td>\n",
       "      <td>290</td>\n",
       "      <td>82</td>\n",
       "    </tr>\n",
       "    <tr>\n",
       "      <th>10</th>\n",
       "      <td>390</td>\n",
       "      <td>120</td>\n",
       "      <td>390</td>\n",
       "      <td>110</td>\n",
       "      <td>390</td>\n",
       "      <td>91</td>\n",
       "      <td>390</td>\n",
       "      <td>92</td>\n",
       "      <td>390</td>\n",
       "      <td>97</td>\n",
       "      <td>390</td>\n",
       "      <td>78</td>\n",
       "      <td>390</td>\n",
       "      <td>80</td>\n",
       "      <td>390</td>\n",
       "      <td>82</td>\n",
       "    </tr>\n",
       "    <tr>\n",
       "      <th>11</th>\n",
       "      <td>800</td>\n",
       "      <td>112</td>\n",
       "      <td>800</td>\n",
       "      <td>104</td>\n",
       "      <td>800</td>\n",
       "      <td>86</td>\n",
       "      <td>800</td>\n",
       "      <td>87</td>\n",
       "      <td>800</td>\n",
       "      <td>92</td>\n",
       "      <td>800</td>\n",
       "      <td>76</td>\n",
       "      <td>800</td>\n",
       "      <td>76</td>\n",
       "      <td>800</td>\n",
       "      <td>79</td>\n",
       "    </tr>\n",
       "  </tbody>\n",
       "</table>\n",
       "</div>"
      ],
      "text/plain": [
       "    WindowR63  TupleR63  WindowR62  TupleR62  WindowR57  TupleR57  WindowR56  \\\n",
       "0          10       227         10       274         10       292         10   \n",
       "1          50       182         50       159         50       127         50   \n",
       "2         150       130        150       121        150        96        150   \n",
       "3         180       128        180       119        180        96        180   \n",
       "4         200       128        200       119        200        96        200   \n",
       "5         220       127        220       118        220        95        220   \n",
       "6         230       127        230       115        230        95        230   \n",
       "7         240       127        240       114        240        95        240   \n",
       "8         250       125        250       113        250        95        250   \n",
       "9         290       123        290       113        290        95        290   \n",
       "10        390       120        390       110        390        91        390   \n",
       "11        800       112        800       104        800        86        800   \n",
       "\n",
       "    TupleR56  WindowR46  TupleR46  WindowR71  TupleR71  WindowR12  TupleR12  \\\n",
       "0        267         10       307         10       223         10       268   \n",
       "1        137         50       132         50       119         50       132   \n",
       "2         99        150       103        150        81        150        89   \n",
       "3         98        180       103        180        81        180        89   \n",
       "4         98        200       101        200        81        200        87   \n",
       "5         96        220       101        220        80        220        87   \n",
       "6         95        230       101        230        80        230        85   \n",
       "7         95        240       100        240        79        240        84   \n",
       "8         95        250       100        250        79        250        83   \n",
       "9         95        290       100        290        78        290        80   \n",
       "10        92        390        97        390        78        390        80   \n",
       "11        87        800        92        800        76        800        76   \n",
       "\n",
       "    WindowR03  TupleR03  \n",
       "0          10       188  \n",
       "1          50       141  \n",
       "2         150        87  \n",
       "3         180        87  \n",
       "4         200        87  \n",
       "5         220        87  \n",
       "6         230        86  \n",
       "7         240        86  \n",
       "8         250        83  \n",
       "9         290        82  \n",
       "10        390        82  \n",
       "11        800        79  "
      ]
     },
     "execution_count": 4,
     "metadata": {},
     "output_type": "execute_result"
    }
   ],
   "source": [
    "df_tot"
   ]
  },
  {
   "cell_type": "code",
   "execution_count": 5,
   "metadata": {},
   "outputs": [],
   "source": [
    "del df_tot['WindowR62']\n",
    "del df_tot['WindowR57']\n",
    "del df_tot['WindowR56']\n",
    "del df_tot['WindowR46']"
   ]
  },
  {
   "cell_type": "code",
   "execution_count": 7,
   "metadata": {},
   "outputs": [
    {
     "data": {
      "text/html": [
       "<div>\n",
       "<style scoped>\n",
       "    .dataframe tbody tr th:only-of-type {\n",
       "        vertical-align: middle;\n",
       "    }\n",
       "\n",
       "    .dataframe tbody tr th {\n",
       "        vertical-align: top;\n",
       "    }\n",
       "\n",
       "    .dataframe thead th {\n",
       "        text-align: right;\n",
       "    }\n",
       "</style>\n",
       "<table border=\"1\" class=\"dataframe\">\n",
       "  <thead>\n",
       "    <tr style=\"text-align: right;\">\n",
       "      <th></th>\n",
       "      <th>WindowR63</th>\n",
       "      <th>TupleR63</th>\n",
       "      <th>TupleR62</th>\n",
       "      <th>TupleR57</th>\n",
       "      <th>TupleR56</th>\n",
       "      <th>TupleR46</th>\n",
       "      <th>TupleR71</th>\n",
       "      <th>TupleR12</th>\n",
       "      <th>TupleR03</th>\n",
       "    </tr>\n",
       "  </thead>\n",
       "  <tbody>\n",
       "    <tr>\n",
       "      <th>0</th>\n",
       "      <td>10</td>\n",
       "      <td>227</td>\n",
       "      <td>274</td>\n",
       "      <td>292</td>\n",
       "      <td>267</td>\n",
       "      <td>307</td>\n",
       "      <td>223</td>\n",
       "      <td>268</td>\n",
       "      <td>188</td>\n",
       "    </tr>\n",
       "    <tr>\n",
       "      <th>1</th>\n",
       "      <td>50</td>\n",
       "      <td>182</td>\n",
       "      <td>159</td>\n",
       "      <td>127</td>\n",
       "      <td>137</td>\n",
       "      <td>132</td>\n",
       "      <td>119</td>\n",
       "      <td>132</td>\n",
       "      <td>141</td>\n",
       "    </tr>\n",
       "    <tr>\n",
       "      <th>2</th>\n",
       "      <td>150</td>\n",
       "      <td>130</td>\n",
       "      <td>121</td>\n",
       "      <td>96</td>\n",
       "      <td>99</td>\n",
       "      <td>103</td>\n",
       "      <td>81</td>\n",
       "      <td>89</td>\n",
       "      <td>87</td>\n",
       "    </tr>\n",
       "    <tr>\n",
       "      <th>3</th>\n",
       "      <td>180</td>\n",
       "      <td>128</td>\n",
       "      <td>119</td>\n",
       "      <td>96</td>\n",
       "      <td>98</td>\n",
       "      <td>103</td>\n",
       "      <td>81</td>\n",
       "      <td>89</td>\n",
       "      <td>87</td>\n",
       "    </tr>\n",
       "    <tr>\n",
       "      <th>4</th>\n",
       "      <td>200</td>\n",
       "      <td>128</td>\n",
       "      <td>119</td>\n",
       "      <td>96</td>\n",
       "      <td>98</td>\n",
       "      <td>101</td>\n",
       "      <td>81</td>\n",
       "      <td>87</td>\n",
       "      <td>87</td>\n",
       "    </tr>\n",
       "    <tr>\n",
       "      <th>5</th>\n",
       "      <td>220</td>\n",
       "      <td>127</td>\n",
       "      <td>118</td>\n",
       "      <td>95</td>\n",
       "      <td>96</td>\n",
       "      <td>101</td>\n",
       "      <td>80</td>\n",
       "      <td>87</td>\n",
       "      <td>87</td>\n",
       "    </tr>\n",
       "    <tr>\n",
       "      <th>6</th>\n",
       "      <td>230</td>\n",
       "      <td>127</td>\n",
       "      <td>115</td>\n",
       "      <td>95</td>\n",
       "      <td>95</td>\n",
       "      <td>101</td>\n",
       "      <td>80</td>\n",
       "      <td>85</td>\n",
       "      <td>86</td>\n",
       "    </tr>\n",
       "    <tr>\n",
       "      <th>7</th>\n",
       "      <td>240</td>\n",
       "      <td>127</td>\n",
       "      <td>114</td>\n",
       "      <td>95</td>\n",
       "      <td>95</td>\n",
       "      <td>100</td>\n",
       "      <td>79</td>\n",
       "      <td>84</td>\n",
       "      <td>86</td>\n",
       "    </tr>\n",
       "    <tr>\n",
       "      <th>8</th>\n",
       "      <td>250</td>\n",
       "      <td>125</td>\n",
       "      <td>113</td>\n",
       "      <td>95</td>\n",
       "      <td>95</td>\n",
       "      <td>100</td>\n",
       "      <td>79</td>\n",
       "      <td>83</td>\n",
       "      <td>83</td>\n",
       "    </tr>\n",
       "    <tr>\n",
       "      <th>9</th>\n",
       "      <td>290</td>\n",
       "      <td>123</td>\n",
       "      <td>113</td>\n",
       "      <td>95</td>\n",
       "      <td>95</td>\n",
       "      <td>100</td>\n",
       "      <td>78</td>\n",
       "      <td>80</td>\n",
       "      <td>82</td>\n",
       "    </tr>\n",
       "    <tr>\n",
       "      <th>10</th>\n",
       "      <td>390</td>\n",
       "      <td>120</td>\n",
       "      <td>110</td>\n",
       "      <td>91</td>\n",
       "      <td>92</td>\n",
       "      <td>97</td>\n",
       "      <td>78</td>\n",
       "      <td>80</td>\n",
       "      <td>82</td>\n",
       "    </tr>\n",
       "    <tr>\n",
       "      <th>11</th>\n",
       "      <td>800</td>\n",
       "      <td>112</td>\n",
       "      <td>104</td>\n",
       "      <td>86</td>\n",
       "      <td>87</td>\n",
       "      <td>92</td>\n",
       "      <td>76</td>\n",
       "      <td>76</td>\n",
       "      <td>79</td>\n",
       "    </tr>\n",
       "  </tbody>\n",
       "</table>\n",
       "</div>"
      ],
      "text/plain": [
       "    WindowR63  TupleR63  TupleR62  TupleR57  TupleR56  TupleR46  TupleR71  \\\n",
       "0          10       227       274       292       267       307       223   \n",
       "1          50       182       159       127       137       132       119   \n",
       "2         150       130       121        96        99       103        81   \n",
       "3         180       128       119        96        98       103        81   \n",
       "4         200       128       119        96        98       101        81   \n",
       "5         220       127       118        95        96       101        80   \n",
       "6         230       127       115        95        95       101        80   \n",
       "7         240       127       114        95        95       100        79   \n",
       "8         250       125       113        95        95       100        79   \n",
       "9         290       123       113        95        95       100        78   \n",
       "10        390       120       110        91        92        97        78   \n",
       "11        800       112       104        86        87        92        76   \n",
       "\n",
       "    TupleR12  TupleR03  \n",
       "0        268       188  \n",
       "1        132       141  \n",
       "2         89        87  \n",
       "3         89        87  \n",
       "4         87        87  \n",
       "5         87        87  \n",
       "6         85        86  \n",
       "7         84        86  \n",
       "8         83        83  \n",
       "9         80        82  \n",
       "10        80        82  \n",
       "11        76        79  "
      ]
     },
     "execution_count": 7,
     "metadata": {},
     "output_type": "execute_result"
    }
   ],
   "source": [
    "del df_tot['WindowR71']\n",
    "del df_tot['WindowR12']\n",
    "del df_tot['WindowR03']\n",
    "df_tot"
   ]
  },
  {
   "cell_type": "code",
   "execution_count": 8,
   "metadata": {},
   "outputs": [
    {
     "data": {
      "text/html": [
       "<div>\n",
       "<style scoped>\n",
       "    .dataframe tbody tr th:only-of-type {\n",
       "        vertical-align: middle;\n",
       "    }\n",
       "\n",
       "    .dataframe tbody tr th {\n",
       "        vertical-align: top;\n",
       "    }\n",
       "\n",
       "    .dataframe thead th {\n",
       "        text-align: right;\n",
       "    }\n",
       "</style>\n",
       "<table border=\"1\" class=\"dataframe\">\n",
       "  <thead>\n",
       "    <tr style=\"text-align: right;\">\n",
       "      <th></th>\n",
       "      <th>Window</th>\n",
       "      <th>TupleR63</th>\n",
       "      <th>TupleR62</th>\n",
       "      <th>TupleR57</th>\n",
       "      <th>TupleR56</th>\n",
       "      <th>TupleR46</th>\n",
       "      <th>TupleR71</th>\n",
       "      <th>TupleR12</th>\n",
       "      <th>TupleR03</th>\n",
       "    </tr>\n",
       "  </thead>\n",
       "  <tbody>\n",
       "    <tr>\n",
       "      <th>0</th>\n",
       "      <td>10</td>\n",
       "      <td>227</td>\n",
       "      <td>274</td>\n",
       "      <td>292</td>\n",
       "      <td>267</td>\n",
       "      <td>307</td>\n",
       "      <td>223</td>\n",
       "      <td>268</td>\n",
       "      <td>188</td>\n",
       "    </tr>\n",
       "    <tr>\n",
       "      <th>1</th>\n",
       "      <td>50</td>\n",
       "      <td>182</td>\n",
       "      <td>159</td>\n",
       "      <td>127</td>\n",
       "      <td>137</td>\n",
       "      <td>132</td>\n",
       "      <td>119</td>\n",
       "      <td>132</td>\n",
       "      <td>141</td>\n",
       "    </tr>\n",
       "    <tr>\n",
       "      <th>2</th>\n",
       "      <td>150</td>\n",
       "      <td>130</td>\n",
       "      <td>121</td>\n",
       "      <td>96</td>\n",
       "      <td>99</td>\n",
       "      <td>103</td>\n",
       "      <td>81</td>\n",
       "      <td>89</td>\n",
       "      <td>87</td>\n",
       "    </tr>\n",
       "    <tr>\n",
       "      <th>3</th>\n",
       "      <td>180</td>\n",
       "      <td>128</td>\n",
       "      <td>119</td>\n",
       "      <td>96</td>\n",
       "      <td>98</td>\n",
       "      <td>103</td>\n",
       "      <td>81</td>\n",
       "      <td>89</td>\n",
       "      <td>87</td>\n",
       "    </tr>\n",
       "    <tr>\n",
       "      <th>4</th>\n",
       "      <td>200</td>\n",
       "      <td>128</td>\n",
       "      <td>119</td>\n",
       "      <td>96</td>\n",
       "      <td>98</td>\n",
       "      <td>101</td>\n",
       "      <td>81</td>\n",
       "      <td>87</td>\n",
       "      <td>87</td>\n",
       "    </tr>\n",
       "    <tr>\n",
       "      <th>5</th>\n",
       "      <td>220</td>\n",
       "      <td>127</td>\n",
       "      <td>118</td>\n",
       "      <td>95</td>\n",
       "      <td>96</td>\n",
       "      <td>101</td>\n",
       "      <td>80</td>\n",
       "      <td>87</td>\n",
       "      <td>87</td>\n",
       "    </tr>\n",
       "    <tr>\n",
       "      <th>6</th>\n",
       "      <td>230</td>\n",
       "      <td>127</td>\n",
       "      <td>115</td>\n",
       "      <td>95</td>\n",
       "      <td>95</td>\n",
       "      <td>101</td>\n",
       "      <td>80</td>\n",
       "      <td>85</td>\n",
       "      <td>86</td>\n",
       "    </tr>\n",
       "    <tr>\n",
       "      <th>7</th>\n",
       "      <td>240</td>\n",
       "      <td>127</td>\n",
       "      <td>114</td>\n",
       "      <td>95</td>\n",
       "      <td>95</td>\n",
       "      <td>100</td>\n",
       "      <td>79</td>\n",
       "      <td>84</td>\n",
       "      <td>86</td>\n",
       "    </tr>\n",
       "    <tr>\n",
       "      <th>8</th>\n",
       "      <td>250</td>\n",
       "      <td>125</td>\n",
       "      <td>113</td>\n",
       "      <td>95</td>\n",
       "      <td>95</td>\n",
       "      <td>100</td>\n",
       "      <td>79</td>\n",
       "      <td>83</td>\n",
       "      <td>83</td>\n",
       "    </tr>\n",
       "    <tr>\n",
       "      <th>9</th>\n",
       "      <td>290</td>\n",
       "      <td>123</td>\n",
       "      <td>113</td>\n",
       "      <td>95</td>\n",
       "      <td>95</td>\n",
       "      <td>100</td>\n",
       "      <td>78</td>\n",
       "      <td>80</td>\n",
       "      <td>82</td>\n",
       "    </tr>\n",
       "    <tr>\n",
       "      <th>10</th>\n",
       "      <td>390</td>\n",
       "      <td>120</td>\n",
       "      <td>110</td>\n",
       "      <td>91</td>\n",
       "      <td>92</td>\n",
       "      <td>97</td>\n",
       "      <td>78</td>\n",
       "      <td>80</td>\n",
       "      <td>82</td>\n",
       "    </tr>\n",
       "    <tr>\n",
       "      <th>11</th>\n",
       "      <td>800</td>\n",
       "      <td>112</td>\n",
       "      <td>104</td>\n",
       "      <td>86</td>\n",
       "      <td>87</td>\n",
       "      <td>92</td>\n",
       "      <td>76</td>\n",
       "      <td>76</td>\n",
       "      <td>79</td>\n",
       "    </tr>\n",
       "  </tbody>\n",
       "</table>\n",
       "</div>"
      ],
      "text/plain": [
       "    Window  TupleR63  TupleR62  TupleR57  TupleR56  TupleR46  TupleR71  \\\n",
       "0       10       227       274       292       267       307       223   \n",
       "1       50       182       159       127       137       132       119   \n",
       "2      150       130       121        96        99       103        81   \n",
       "3      180       128       119        96        98       103        81   \n",
       "4      200       128       119        96        98       101        81   \n",
       "5      220       127       118        95        96       101        80   \n",
       "6      230       127       115        95        95       101        80   \n",
       "7      240       127       114        95        95       100        79   \n",
       "8      250       125       113        95        95       100        79   \n",
       "9      290       123       113        95        95       100        78   \n",
       "10     390       120       110        91        92        97        78   \n",
       "11     800       112       104        86        87        92        76   \n",
       "\n",
       "    TupleR12  TupleR03  \n",
       "0        268       188  \n",
       "1        132       141  \n",
       "2         89        87  \n",
       "3         89        87  \n",
       "4         87        87  \n",
       "5         87        87  \n",
       "6         85        86  \n",
       "7         84        86  \n",
       "8         83        83  \n",
       "9         80        82  \n",
       "10        80        82  \n",
       "11        76        79  "
      ]
     },
     "execution_count": 8,
     "metadata": {},
     "output_type": "execute_result"
    }
   ],
   "source": [
    "#df_tot.rename(columns={'WindowR63':'Window'})\n",
    "df_tot.columns = df_tot.columns.str.replace('WindowR63', 'Window')\n",
    "df_tot"
   ]
  },
  {
   "cell_type": "code",
   "execution_count": 9,
   "metadata": {},
   "outputs": [
    {
     "data": {
      "image/png": "[encoded data removed]",
      "text/plain": [
       "<Figure size 864x432 with 1 Axes>"
      ]
     },
     "metadata": {
      "needs_background": "light"
     },
     "output_type": "display_data"
    }
   ],
   "source": [
    "plt.figure(figsize=(12,6))\n",
    "plt.plot(df_tot['Window'], df_tot['TupleR63'],\n",
    "         df_tot['Window'],df_tot['TupleR62'],\n",
    "         df_tot['Window'],df_tot['TupleR57'],\n",
    "         df_tot['Window'],df_tot['TupleR56'],\n",
    "         df_tot['Window'], df_tot['TupleR46'],\n",
    "         df_tot['Window'], df_tot['TupleR71'],\n",
    "         df_tot['Window'], df_tot['TupleR03'],\n",
    "         df_tot['Window'], df_tot['TupleR12'])\n",
    "plt.legend(Rk_list)\n",
    "plt.grid()\n",
    "plt.xlim(0,800)\n",
    "plt.xticks(np.arange(0, 800, step = 50))\n",
    "plt.xlabel('Window (s)')\n",
    "plt.ylabel('Tuple')\n",
    "plt.show()"
   ]
  },
  {
   "cell_type": "code",
   "execution_count": 22,
   "metadata": {},
   "outputs": [
    {
     "data": {
      "image/png": "[encoded data removed]",
      "text/plain": [
       "<Figure size 432x432 with 1 Axes>"
      ]
     },
     "metadata": {
      "needs_background": "light"
     },
     "output_type": "display_data"
    }
   ],
   "source": [
    "df_bgl.groupby(by='Card type').Timestamp.count().plot.bar(figsize=(6,6),color=['blue','orange'])\n",
    "plt.xticks(rotation=0)\n",
    "plt.ylabel('numero entry')\n",
    "plt.show()"
   ]
  },
  {
   "cell_type": "code",
   "execution_count": 35,
   "metadata": {},
   "outputs": [
    {
     "data": {
      "image/png": "[encoded data removed]",
      "text/plain": [
       "<Figure size 432x576 with 1 Axes>"
      ]
     },
     "metadata": {
      "needs_background": "light"
     },
     "output_type": "display_data"
    }
   ],
   "source": [
    "df_bgl.groupby(by='Card').Timestamp.count().plot.barh(figsize=(6,8))\n",
    "plt.xlabel('numero entry')\n",
    "plt.show()"
   ]
  },
  {
   "cell_type": "code",
   "execution_count": 43,
   "metadata": {},
   "outputs": [],
   "source": [
    "perc = ''\n",
    "\n",
    "df_io = df_bgl.loc[df_bgl['Card type']=='I-O']\n",
    "df_comp = df_bgl.loc[df_bgl['Card type']=='computation']\n",
    "del df_comp['Rack']\n",
    "del df_comp['Midplane']\n",
    "del df_comp['Node']\n",
    "del df_comp['Card type']\n",
    "\n",
    "del df_io['Rack']\n",
    "del df_io['Midplane']\n",
    "del df_io['Node']\n",
    "del df_io['Card type']"
   ]
  },
  {
   "cell_type": "code",
   "execution_count": 44,
   "metadata": {},
   "outputs": [],
   "source": [
    "df_comp.to_csv(perc+'/BGL-error-computation.txt', index=False, sep=' ', header=False)\n",
    "df_io.to_csv(perc+'/BGL-error-io.txt', index=False, sep=' ', header=False)"
   ]
  },
  {
   "cell_type": "code",
   "execution_count": 45,
   "metadata": {},
   "outputs": [
    {
     "data": {
      "text/html": [
       "<div>\n",
       "<style scoped>\n",
       "    .dataframe tbody tr th:only-of-type {\n",
       "        vertical-align: middle;\n",
       "    }\n",
       "\n",
       "    .dataframe tbody tr th {\n",
       "        vertical-align: top;\n",
       "    }\n",
       "\n",
       "    .dataframe thead th {\n",
       "        text-align: right;\n",
       "    }\n",
       "</style>\n",
       "<table border=\"1\" class=\"dataframe\">\n",
       "  <thead>\n",
       "    <tr style=\"text-align: right;\">\n",
       "      <th></th>\n",
       "      <th>Timestamp</th>\n",
       "      <th>ID-Node</th>\n",
       "      <th>Card</th>\n",
       "      <th>Message</th>\n",
       "    </tr>\n",
       "  </thead>\n",
       "  <tbody>\n",
       "    <tr>\n",
       "      <th>1152</th>\n",
       "      <td>1128702415</td>\n",
       "      <td>R61-M1-N2</td>\n",
       "      <td>J10-U11</td>\n",
       "      <td>machine check interrupt (bit=0x06): L3 major i...</td>\n",
       "    </tr>\n",
       "    <tr>\n",
       "      <th>1153</th>\n",
       "      <td>1128702415</td>\n",
       "      <td>R61-M1-N2</td>\n",
       "      <td>J10-U11</td>\n",
       "      <td>instruction address: 0x0023d060</td>\n",
       "    </tr>\n",
       "    <tr>\n",
       "      <th>1154</th>\n",
       "      <td>1128702416</td>\n",
       "      <td>R61-M1-N2</td>\n",
       "      <td>J10-U11</td>\n",
       "      <td>machine check status register: 0xa0000000</td>\n",
       "    </tr>\n",
       "    <tr>\n",
       "      <th>1155</th>\n",
       "      <td>1128702416</td>\n",
       "      <td>R61-M1-N2</td>\n",
       "      <td>J10-U11</td>\n",
       "      <td>summary...........................1</td>\n",
       "    </tr>\n",
       "    <tr>\n",
       "      <th>1156</th>\n",
       "      <td>1128702416</td>\n",
       "      <td>R61-M1-N2</td>\n",
       "      <td>J10-U11</td>\n",
       "      <td>instruction plb error.............0</td>\n",
       "    </tr>\n",
       "    <tr>\n",
       "      <th>...</th>\n",
       "      <td>...</td>\n",
       "      <td>...</td>\n",
       "      <td>...</td>\n",
       "      <td>...</td>\n",
       "    </tr>\n",
       "    <tr>\n",
       "      <th>125148</th>\n",
       "      <td>1136287504</td>\n",
       "      <td>R27-M0-NA</td>\n",
       "      <td>J11-U11</td>\n",
       "      <td>fpr28=0xffffffff ffffffff d2f1a9fc 3f30624d</td>\n",
       "    </tr>\n",
       "    <tr>\n",
       "      <th>125149</th>\n",
       "      <td>1136287505</td>\n",
       "      <td>R27-M0-NA</td>\n",
       "      <td>J11-U11</td>\n",
       "      <td>fpr29=0xffffffff ffffffff 00000000 00000000</td>\n",
       "    </tr>\n",
       "    <tr>\n",
       "      <th>125150</th>\n",
       "      <td>1136287505</td>\n",
       "      <td>R27-M0-NA</td>\n",
       "      <td>J11-U11</td>\n",
       "      <td>fpr30=0xffffffff ffffffff 00000000 00000000</td>\n",
       "    </tr>\n",
       "    <tr>\n",
       "      <th>125151</th>\n",
       "      <td>1136287505</td>\n",
       "      <td>R27-M0-NA</td>\n",
       "      <td>J11-U11</td>\n",
       "      <td>fpr31=0xffffffff ffffffff 00000000 00000000</td>\n",
       "    </tr>\n",
       "    <tr>\n",
       "      <th>125152</th>\n",
       "      <td>1136287505</td>\n",
       "      <td>R27-M0-NA</td>\n",
       "      <td>J11-U11</td>\n",
       "      <td>rts panic! - stopping execution</td>\n",
       "    </tr>\n",
       "  </tbody>\n",
       "</table>\n",
       "<p>25637 rows × 4 columns</p>\n",
       "</div>"
      ],
      "text/plain": [
       "         Timestamp    ID-Node     Card  \\\n",
       "1152    1128702415  R61-M1-N2  J10-U11   \n",
       "1153    1128702415  R61-M1-N2  J10-U11   \n",
       "1154    1128702416  R61-M1-N2  J10-U11   \n",
       "1155    1128702416  R61-M1-N2  J10-U11   \n",
       "1156    1128702416  R61-M1-N2  J10-U11   \n",
       "...            ...        ...      ...   \n",
       "125148  1136287504  R27-M0-NA  J11-U11   \n",
       "125149  1136287505  R27-M0-NA  J11-U11   \n",
       "125150  1136287505  R27-M0-NA  J11-U11   \n",
       "125151  1136287505  R27-M0-NA  J11-U11   \n",
       "125152  1136287505  R27-M0-NA  J11-U11   \n",
       "\n",
       "                                                  Message  \n",
       "1152    machine check interrupt (bit=0x06): L3 major i...  \n",
       "1153                      instruction address: 0x0023d060  \n",
       "1154            machine check status register: 0xa0000000  \n",
       "1155                  summary...........................1  \n",
       "1156                  instruction plb error.............0  \n",
       "...                                                   ...  \n",
       "125148        fpr28=0xffffffff ffffffff d2f1a9fc 3f30624d  \n",
       "125149        fpr29=0xffffffff ffffffff 00000000 00000000  \n",
       "125150        fpr30=0xffffffff ffffffff 00000000 00000000  \n",
       "125151        fpr31=0xffffffff ffffffff 00000000 00000000  \n",
       "125152                    rts panic! - stopping execution  \n",
       "\n",
       "[25637 rows x 4 columns]"
      ]
     },
     "execution_count": 45,
     "metadata": {},
     "output_type": "execute_result"
    }
   ],
   "source": [
    "df_comp"
   ]
  },
  {
   "cell_type": "code",
   "execution_count": null,
   "metadata": {},
   "outputs": [],
   "source": []
  }
 ],
 "metadata": {
  "kernelspec": {
   "display_name": "Python 3 (ipykernel)",
   "language": "python",
   "name": "python3"
  },
  "language_info": {
   "codemirror_mode": {
    "name": "ipython",
    "version": 3
   },
   "file_extension": ".py",
   "mimetype": "text/x-python",
   "name": "python",
   "nbconvert_exporter": "python",
   "pygments_lexer": "ipython3",
   "version": "3.10.4"
  }
 },
 "nbformat": 4,
 "nbformat_minor": 4
}
